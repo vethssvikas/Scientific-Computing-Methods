{
 "cells": [
  {
   "cell_type": "code",
   "execution_count": 9,
   "metadata": {},
   "outputs": [],
   "source": [
    "import numpy as np\n",
    "import sys\n",
    "import matplotlib.pyplot as plt"
   ]
  },
  {
   "cell_type": "code",
   "execution_count": 10,
   "metadata": {},
   "outputs": [
    {
     "name": "stdout",
     "output_type": "stream",
     "text": [
      "[[-30  10  20]\n",
      " [ 10  40 -50]\n",
      " [ 20 -50 -10]]\n"
     ]
    }
   ],
   "source": [
    "#reading input\n",
    "A= np.array([[-30, 10,20],[10, 40,-50],[20,-50,-10]])\n",
    "dim = np.shape(A)\n",
    "print(A)"
   ]
  },
  {
   "cell_type": "code",
   "execution_count": 11,
   "metadata": {},
   "outputs": [
    {
     "data": {
      "text/plain": [
       "<Figure size 432x288 with 0 Axes>"
      ]
     },
     "metadata": {},
     "output_type": "display_data"
    }
   ],
   "source": [
    "#initialise plot\n",
    "fig=plt.figure()"
   ]
  },
  {
   "cell_type": "code",
   "execution_count": 12,
   "metadata": {},
   "outputs": [
    {
     "name": "stdout",
     "output_type": "stream",
     "text": [
      "(array([-58.39043778, -12.55304553,  70.94348331]), array([[-0.61758839,  0.78622632,  0.02080284],\n",
      "       [ 0.40529799,  0.34081026, -0.84828174],\n",
      "       [ 0.67403125,  0.51545761,  0.5291364 ]]))\n"
     ]
    }
   ],
   "source": [
    "#solution from python functions\n",
    "ded = np.linalg.eig(A)\n",
    "print(ded)"
   ]
  },
  {
   "cell_type": "code",
   "execution_count": 13,
   "metadata": {},
   "outputs": [],
   "source": [
    "print('def',ded[0],'\\n',ded[1],file=open(\"output.txt\",\"w\"))\n",
    "b=np.ones(dim[0])\n",
    "bnext=b/np.sqrt(dim[0])"
   ]
  },
  {
   "cell_type": "code",
   "execution_count": 14,
   "metadata": {},
   "outputs": [
    {
     "name": "stdout",
     "output_type": "stream",
     "text": [
      "0\n",
      "0\n",
      "-13.333333333333334 [1. 1. 1.]\n",
      "1\n",
      "1\n",
      "nan [ nan  nan -inf]\n",
      "2\n",
      "2\n",
      "3.0 [-2.  5.  1.]\n",
      "3\n",
      "3\n",
      "15.72697899838449 [ 1.          1.         -2.30769231]\n",
      "4\n",
      "4\n",
      "27.57755763286283 [-9.55555556 23.88888889 -1.        ]\n",
      "5\n",
      "5\n",
      "38.004318731512626 [ 1.          1.8        -2.72087912]\n",
      "6\n",
      "6\n",
      "46.63256022247924 [-1.55213148  5.09553159 -1.        ]\n",
      "7\n",
      "7\n",
      "53.41171854233181 [ 1.          3.07407407 -3.55807328]\n",
      "8\n",
      "8\n",
      "58.52403833682258 [-1.          4.41441958 -1.39338201]\n",
      "9\n",
      "9\n",
      "62.26135639393585 [ 1.          5.10508788 -4.90069228]\n",
      "10\n",
      "10\n",
      "64.9318515545223 [-1.          5.96700139 -2.41996221]\n",
      "11\n",
      "11\n",
      "66.80908871693151 [ 1.          8.47278036 -7.12733128]\n",
      "12\n",
      "12\n",
      "68.11357741508228 [-1.          8.03105487 -3.78467506]\n",
      "13\n",
      "13\n",
      "69.01281947522696 [  1.          14.45749949 -11.08430729]\n",
      "14\n",
      "14\n",
      "69.6292833398411 [-1.         10.66663306 -5.52726673]\n",
      "15\n",
      "15\n",
      "70.05028934879795 [  1.          26.53147911 -19.06738113]\n",
      "16\n",
      "16\n",
      "70.33706429411357 [-1.         13.86419889 -7.64143332]\n",
      "17\n",
      "17\n",
      "70.5320602515871 [  1.          58.59866691 -40.26956441]\n",
      "18\n",
      "18\n",
      "70.66449053420125 [ -1.          17.51140341 -10.05289201]\n",
      "19\n",
      "19\n",
      "70.75435623052908 [   1.          294.14291981 -196.00671391]\n",
      "20\n",
      "20\n",
      "70.81530425179497 [ -1.          21.38985211 -12.61724473]\n",
      "21\n",
      "21\n",
      "70.85662439639765 [  -1.          174.80358173 -114.05133472]\n",
      "22\n",
      "22\n",
      "70.88463053540113 [ -1.          25.21856873 -15.14871559]\n",
      "23\n",
      "23\n",
      "70.90360936976944 [ -1.          84.47786125 -54.32977471]\n",
      "24\n",
      "24\n",
      "70.91646919093499 [ -1.          28.73049182 -17.4707289 ]\n",
      "25\n",
      "25\n",
      "70.92518215316318 [ -1.          62.68381949 -39.91999014]\n",
      "26\n",
      "26\n",
      "70.93108516105963 [ -1.          31.74131993 -19.46142823]\n",
      "27\n",
      "27\n",
      "70.93508428684449 [ -1.          53.39482722 -33.77829422]\n",
      "28\n",
      "28\n",
      "70.93779351785483 [ -1.          34.17657596 -21.07157082]\n",
      "29\n",
      "29\n",
      "70.93962887144238 [ -1.          48.53739456 -30.56665689]\n",
      "30\n",
      "30\n",
      "70.94087220750198 [ -1.          36.05520796 -22.31368473]\n",
      "31\n",
      "31\n",
      "70.94171448263474 [ -1.          45.72538962 -28.70741545]\n",
      "32\n",
      "32\n",
      "70.94228506345513 [ -1.          37.45219341 -23.23734357]\n",
      "33\n",
      "33\n",
      "70.94267158955888 [ -1.          44.00095763 -27.56725551]\n",
      "34\n",
      "34\n",
      "70.94293343164485 [ -1.          38.46290708 -23.90560723]\n",
      "35\n",
      "35\n",
      "70.94311080948931 [ -1.          42.90587202 -26.8432068 ]\n",
      "36\n",
      "36\n",
      "70.94323096918453 [ -1.          39.17973046 -24.37955652]\n",
      "37\n",
      "37\n",
      "70.94331236797295 [ -1.          42.19494779 -26.37315792]\n",
      "38\n",
      "38\n",
      "70.94336750925322 [ -1.          39.68096626 -24.71096361]\n",
      "39\n",
      "39\n",
      "70.94340486312312 [ -1.          41.72679311 -26.06362341]\n",
      "40\n",
      "40\n",
      "70.94343016741905 [ -1.          40.02799036 -24.940409  ]\n",
      "41\n",
      "41\n",
      "70.94344730907787 [ -1.          41.41560553 -25.8578724 ]\n",
      "42\n",
      "42\n",
      "70.9434589211945 [ -1.          40.26659946 -25.09817256]\n",
      "43\n",
      "43\n",
      "70.94346678748354 [ -1.          41.20746621 -25.72025485]\n",
      "44\n",
      "44\n",
      "70.94347211627091 [ -1.          40.42988816 -25.20613579]\n",
      "45\n",
      "45\n",
      "70.94347572610187 [ -1.          41.06767193 -25.62782566]\n",
      "46\n",
      "46\n",
      "70.94347817147613 [ -1.          40.54127035 -25.27977947]\n",
      "47\n",
      "47\n",
      "70.94347982802323 [ -1.          40.97351874 -25.56557345]\n",
      "48\n",
      "48\n",
      "70.94348095020251 [ -1.          40.61707806 -25.32990201]\n",
      "49\n",
      "49\n",
      "70.94348171038999 [ -1.          40.90998629 -25.52356707]\n",
      "50\n",
      "50\n",
      "70.94348222535669 [ -1.          40.6685957  -25.36396444]\n",
      "51\n",
      "51\n",
      "70.94348257420577 [ -1.          40.86706174 -25.49518622]\n",
      "52\n",
      "52\n",
      "70.94348281052336 [ -1.          40.70357035 -25.38708898]\n",
      "53\n",
      "53\n",
      "70.9434829706098 [ -1.          40.83803573 -25.4759948 ]\n",
      "54\n",
      "54\n",
      "70.94348307905564 [ -1.          40.72729767 -25.40277701]\n",
      "55\n",
      "55\n",
      "70.9434831525191 [ -1.          40.81839672 -25.46300988]\n",
      "56\n",
      "56\n",
      "70.94348320228477 [ -1.          40.74338702 -25.41341497]\n",
      "57\n",
      "57\n",
      "70.94348323599706 [ -1.          40.80510374 -25.45422083]\n",
      "58\n",
      "58\n",
      "70.94348325883445 [ -1.          40.75429362 -25.42062619]\n",
      "59\n",
      "59\n",
      "70.943483274305 [ -1.          40.79610381 -25.44827025]\n",
      "60\n",
      "60\n",
      "70.94348328478505 [ -1.          40.76168535 -25.42551346]\n"
     ]
    },
    {
     "name": "stderr",
     "output_type": "stream",
     "text": [
      "<ipython-input-14-32c020479d4a>:12: RuntimeWarning: divide by zero encountered in true_divide\n",
      "  div=div/div[0]\n",
      "<ipython-input-14-32c020479d4a>:12: RuntimeWarning: invalid value encountered in true_divide\n",
      "  div=div/div[0]\n",
      "<ipython-input-14-32c020479d4a>:11: RuntimeWarning: divide by zero encountered in true_divide\n",
      "  div=np.divide(bnext,b)\n",
      "<ipython-input-14-32c020479d4a>:17: RuntimeWarning: divide by zero encountered in true_divide\n",
      "  b=b/bmin\n",
      "<ipython-input-14-32c020479d4a>:17: RuntimeWarning: invalid value encountered in true_divide\n",
      "  b=b/bmin\n"
     ]
    },
    {
     "name": "stdout",
     "output_type": "stream",
     "text": [
      "61\n",
      "61\n",
      "70.94348329188445 [ -1.          40.79000936 -25.44424072]\n",
      "62\n",
      "62\n",
      "70.94348329669373 [ -1.          40.76669421 -25.42882522]\n",
      "63\n",
      "63\n",
      "70.94348329995167 [ -1.          40.7858819  -25.44151173]\n",
      "64\n",
      "64\n",
      "70.94348330215861 [ -1.          40.77008803 -25.43106914]\n",
      "65\n",
      "65\n",
      "70.94348330365368 [ -1.          40.78308636 -25.43966338]\n",
      "66\n",
      "66\n",
      "70.94348330466647 [ -1.          40.7723874  -25.43258943]\n",
      "67\n",
      "67\n",
      "70.94348330535253 [ -1.          40.78119282 -25.43841141]\n",
      "68\n",
      "68\n",
      "70.9434833058173 [ -1.          40.77394518 -25.43361941]\n",
      "69\n",
      "69\n",
      "70.94348330613214 [ -1.          40.7799102  -25.43756337]\n",
      "70\n",
      "70\n",
      "70.94348330634541 [ -1.          40.77500053 -25.43431719]\n",
      "71\n",
      "71\n",
      "70.94348330648988 [ -1.          40.77904138 -25.43698891]\n",
      "72\n",
      "72\n",
      "70.94348330658777 [ -1.          40.77571548 -25.4347899 ]\n",
      "73\n",
      "73\n",
      "70.94348330665406 [ -1.          40.77845284 -25.43659978]\n",
      "74\n",
      "74\n",
      "70.94348330669898 [ -1.          40.77619981 -25.43511013]\n",
      "75\n",
      "75\n",
      "70.94348330672939 [ -1.          40.77805416 -25.43633619]\n",
      "76\n",
      "76\n",
      "70.94348330675001 [ -1.          40.77652791 -25.43532706]\n",
      "77\n",
      "77\n",
      "70.94348330676398 [ -1.          40.77778409 -25.43615762]\n",
      "78\n",
      "78\n",
      "70.94348330677344 [ -1.          40.77675018 -25.43547402]\n",
      "79\n",
      "79\n",
      "70.94348330677984 [ -1.          40.77760114 -25.43603666]\n",
      "80\n",
      "80\n",
      "70.94348330678417 [ -1.          40.77690075 -25.43557358]\n",
      "81\n",
      "81\n",
      "70.94348330678713 [ -1.          40.77747721 -25.43595472]\n",
      "82\n",
      "82\n",
      "70.9434833067891 [ -1.          40.77700275 -25.43564102]\n",
      "83\n",
      "83\n",
      "70.94348330679045 [ -1.          40.77739326 -25.43589921]\n",
      "84\n",
      "84\n",
      "70.94348330679138 [ -1.          40.77707185 -25.4356867 ]\n",
      "85\n",
      "85\n",
      "70.943483306792 [ -1.          40.77733639 -25.43586161]\n",
      "86\n",
      "86\n",
      "70.94348330679242 [ -1.          40.77711866 -25.43571765]\n",
      "87\n",
      "87\n",
      "70.9434833067927 [ -1.          40.77729786 -25.43583614]\n",
      "88\n",
      "88\n",
      "70.94348330679288 [ -1.          40.77715037 -25.43573862]\n",
      "89\n",
      "89\n",
      "70.94348330679303 [ -1.          40.77727176 -25.43581888]\n",
      "90\n",
      "90\n",
      "70.94348330679313 [ -1.          40.77717185 -25.43575282]\n",
      "91\n",
      "91\n",
      "70.94348330679318 [ -1.          40.77725408 -25.43580719]\n",
      "92\n",
      "92\n",
      "70.94348330679321 [ -1.          40.7771864  -25.43576244]\n",
      "93\n",
      "93\n",
      "70.94348330679325 [ -1.          40.77724211 -25.43579927]\n",
      "94\n",
      "94\n",
      "70.94348330679327 [ -1.          40.77719625 -25.43576896]\n",
      "[-0.00073663  0.03003764 -0.01873671]\n"
     ]
    },
    {
     "data": {
      "image/png": "[encoded data removed]",
      "text/plain": [
       "<Figure size 432x288 with 1 Axes>"
      ]
     },
     "metadata": {
      "needs_background": "light"
     },
     "output_type": "display_data"
    },
    {
     "data": {
      "text/plain": [
       "<Figure size 432x288 with 0 Axes>"
      ]
     },
     "metadata": {},
     "output_type": "display_data"
    }
   ],
   "source": [
    "#iterations\n",
    "for i in range(1000):\n",
    "    b=bnext\n",
    "    #multiplication\n",
    "    bnext=A@b\n",
    "    #normalisation factor\n",
    "    normfac=np.absolute(bnext@bnext)\n",
    "    bnext=bnext/normfac\n",
    "    #to compare bnext and b\n",
    "    print(i)\n",
    "    div=np.divide(bnext,b)\n",
    "    div=div/div[0]\n",
    "    print(i)\n",
    "    #to find minimum\n",
    "    babs=np.abs(b)\n",
    "    bmin=np.min(babs)\n",
    "    b=b/bmin\n",
    "    #finding eigen value\n",
    "    ev=((A@b)@b)/(b@b)\n",
    "    print(ev,b)\n",
    "    #plotting\n",
    "    plt.scatter(i,ev)\n",
    "    if (np.allclose(div,1,atol = 1e-6 \t,rtol = 0)):\n",
    "        print(bnext)\n",
    "        break\n",
    "bnext=np.ones(dim[0])\n",
    "plt.savefig('max.png')\n",
    "plt.show()\n",
    "fig=plt.figure()"
   ]
  },
  {
   "cell_type": "code",
   "execution_count": 124,
   "metadata": {},
   "outputs": [],
   "source": [
    "Z=np.linalg.inv(A)\n"
   ]
  },
  {
   "cell_type": "code",
   "execution_count": 125,
   "metadata": {},
   "outputs": [
    {
     "name": "stdout",
     "output_type": "stream",
     "text": [
      "[[-0.055769 -0.017308 -0.025   ]\n",
      " [-0.017308 -0.001923 -0.025   ]\n",
      " [-0.025    -0.025    -0.025   ]]\n"
     ]
    }
   ],
   "source": [
    "print(np.round(Z,6))\n",
    "Q=np.round(Z,6)"
   ]
  },
  {
   "cell_type": "code",
   "execution_count": 126,
   "metadata": {},
   "outputs": [],
   "source": [
    "S= np.dot(A,Z)"
   ]
  },
  {
   "cell_type": "code",
   "execution_count": 127,
   "metadata": {},
   "outputs": [
    {
     "name": "stdout",
     "output_type": "stream",
     "text": [
      "[[ 1. -0. -0.]\n",
      " [ 0.  1.  0.]\n",
      " [ 0.  0.  1.]]\n"
     ]
    }
   ],
   "source": [
    "print(np.round(S,6))"
   ]
  },
  {
   "cell_type": "code",
   "execution_count": 128,
   "metadata": {},
   "outputs": [
    {
     "data": {
      "text/plain": [
       "array([[-0.055769, -0.017308, -0.025   ],\n",
       "       [-0.017308, -0.001923, -0.025   ],\n",
       "       [-0.025   , -0.025   , -0.025   ]])"
      ]
     },
     "execution_count": 128,
     "metadata": {},
     "output_type": "execute_result"
    }
   ],
   "source": [
    "Q"
   ]
  },
  {
   "cell_type": "code",
   "execution_count": 129,
   "metadata": {},
   "outputs": [
    {
     "name": "stdout",
     "output_type": "stream",
     "text": [
      "-13.333333333333334\n",
      "-12.633851884368044\n",
      "-12.558082341284377\n",
      "-12.553319453505619\n",
      "-12.55305946527686\n",
      "-12.553046241732783\n",
      "-12.553045561282596\n",
      "-12.553045527979666\n",
      "-12.553045525195627\n",
      "-12.553045524994857\n",
      "-12.553045524994857 [-2.30691033 -1.         -1.51243757]\n"
     ]
    },
    {
     "data": {
      "image/png": "[encoded data removed]",
      "text/plain": [
       "<Figure size 432x288 with 1 Axes>"
      ]
     },
     "metadata": {
      "needs_background": "light"
     },
     "output_type": "display_data"
    }
   ],
   "source": [
    "for i in range(1000):\n",
    "    b=bnext\n",
    "    bnext=Q@b\n",
    "    normfac=np.absolute(bnext@bnext)\n",
    "    bnext=bnext/normfac\n",
    "    div=np.divide(bnext,b)\n",
    "    div=div/div[0]\n",
    "    babs=np.abs(b)\n",
    "    bmin=np.min(babs)\n",
    "    b=b/bmin\n",
    "    ev1=((A@b)@b)/(b@b)\n",
    "    print( ev1)\n",
    "    plt.scatter(i,ev1)\n",
    "    if (np.allclose(div,1,atol = 1e-6 \t,rtol = 0)):\n",
    "        print(ev1,b)\n",
    "        break\n",
    "plt.savefig('min.png')\n"
   ]
  },
  {
   "cell_type": "code",
   "execution_count": null,
   "metadata": {},
   "outputs": [],
   "source": []
  },
  {
   "cell_type": "code",
   "execution_count": null,
   "metadata": {},
   "outputs": [],
   "source": []
  },
  {
   "cell_type": "code",
   "execution_count": null,
   "metadata": {},
   "outputs": [],
   "source": []
  }
 ],
 "metadata": {
  "kernelspec": {
   "display_name": "Python 3",
   "language": "python",
   "name": "python3"
  },
  "language_info": {
   "codemirror_mode": {
    "name": "ipython",
    "version": 3
   },
   "file_extension": ".py",
   "mimetype": "text/x-python",
   "name": "python",
   "nbconvert_exporter": "python",
   "pygments_lexer": "ipython3",
   "version": "3.8.5"
  }
 },
 "nbformat": 4,
 "nbformat_minor": 4
}
