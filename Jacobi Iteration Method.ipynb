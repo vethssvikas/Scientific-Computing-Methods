{
 "cells": [
  {
   "cell_type": "markdown",
   "metadata": {},
   "source": [
    "# Inserting Relevant Libraries"
   ]
  },
  {
   "cell_type": "code",
   "execution_count": 12,
   "metadata": {},
   "outputs": [],
   "source": [
    "import numpy as np\n",
    "import pprint as pp\n",
    "from numpy.linalg import *\n",
    "import itertools\n",
    "import matplotlib.pyplot as plt\n",
    "import pandas as pd"
   ]
  },
  {
   "cell_type": "markdown",
   "metadata": {},
   "source": [
    "# Taking the inputs and printing the size"
   ]
  },
  {
   "cell_type": "code",
   "execution_count": 13,
   "metadata": {},
   "outputs": [
    {
     "name": "stdout",
     "output_type": "stream",
     "text": [
      "array([[ 3,  7, 13, 76],\n",
      "       [ 1,  5,  3, 28],\n",
      "       [12,  3, -5,  1]])\n"
     ]
    }
   ],
   "source": [
    "a = np.array([[3, 7, 13,76],[1, 5, 3,28],[12, 3, -5,1]])\n",
    "pp.pprint(a)\n"
   ]
  },
  {
   "cell_type": "code",
   "execution_count": 14,
   "metadata": {},
   "outputs": [
    {
     "data": {
      "text/plain": [
       "3"
      ]
     },
     "execution_count": 14,
     "metadata": {},
     "output_type": "execute_result"
    }
   ],
   "source": [
    "n=len(a)\n",
    "n"
   ]
  },
  {
   "cell_type": "markdown",
   "metadata": {},
   "source": [
    "# The jacobi iteration function"
   ]
  },
  {
   "cell_type": "code",
   "execution_count": 15,
   "metadata": {},
   "outputs": [],
   "source": [
    "dataa=[]\n",
    "def jacobi(A, b, x0, tol, maxiter=200):\n",
    "    \n",
    "    n = A.shape[0]\n",
    "    x = x0.copy()\n",
    "    x_prev = x0.copy()\n",
    "    k = 0\n",
    "    rel_diff = tol * 2\n",
    "    \n",
    "\n",
    "    while (rel_diff > tol) and (k < maxiter):\n",
    "\n",
    "        for i in range(0, n):\n",
    "            subs = 0.0\n",
    "            for j in range(0, n):\n",
    "                if i != j:\n",
    "                    subs += A[i,j] * x_prev[j]\n",
    "\n",
    "            x[i] = (b[i] - subs ) / A[i,i]\n",
    "        k += 1\n",
    "\n",
    "        rel_diff = norm(x - x_prev) / norm(x)\n",
    "        print(x, rel_diff)\n",
    "        dataa.append((k,x[0][0]))\n",
    "        x_prev = x.copy()\n",
    "\n",
    "    return x, rel_diff, k"
   ]
  },
  {
   "cell_type": "markdown",
   "metadata": {},
   "source": [
    "# Checking for the diagonally dominant condition"
   ]
  },
  {
   "cell_type": "code",
   "execution_count": 16,
   "metadata": {},
   "outputs": [],
   "source": [
    "# whether given matrix is  \n",
    "# Diagonally Dominant Matrix. \n",
    "  \n",
    "# check the given given  \n",
    "# matrix is Diagonally  \n",
    "# Dominant Matrix or not. \n",
    "def isitDDM(s, n) : \n",
    "  \n",
    "    # for each row \n",
    "    for i in range(0, n) :          \n",
    "      \n",
    "        # for each column, finding \n",
    "        # sum of each row. \n",
    "        sum = 0\n",
    "        for j in range(0, n) : \n",
    "            sum += abs(s[i,j])      \n",
    "  \n",
    "        # removing the  \n",
    "        # diagonal element. \n",
    "        sum -= abs(s[i,i]) \n",
    "  \n",
    "        # checking if diagonal  \n",
    "        # element is less than  \n",
    "        # sum of non-diagonal \n",
    "        # element. \n",
    "        if (abs(s[i,i]) < sum) : \n",
    "            return False\n",
    "  \n",
    "    return True"
   ]
  },
  {
   "cell_type": "code",
   "execution_count": 17,
   "metadata": {},
   "outputs": [
    {
     "data": {
      "text/plain": [
       "False"
      ]
     },
     "execution_count": 17,
     "metadata": {},
     "output_type": "execute_result"
    }
   ],
   "source": [
    "isitDDM(a,n)"
   ]
  },
  {
   "cell_type": "markdown",
   "metadata": {},
   "source": [
    "# Changing it to diagonally dominant form"
   ]
  },
  {
   "cell_type": "code",
   "execution_count": 18,
   "metadata": {},
   "outputs": [
    {
     "name": "stdout",
     "output_type": "stream",
     "text": [
      "Matrix a is diagonally dominant\n"
     ]
    }
   ],
   "source": [
    "import random\n",
    "isdom = isitDDM(a,n)\n",
    "while 1:\n",
    "    if isitDDM(a,n):\n",
    "        print('Matrix a is diagonally dominant')\n",
    "        break\n",
    "    else:\n",
    "        a = np.random.permutation(a)"
   ]
  },
  {
   "cell_type": "code",
   "execution_count": 19,
   "metadata": {},
   "outputs": [
    {
     "data": {
      "text/plain": [
       "array([[12,  3, -5,  1],\n",
       "       [ 1,  5,  3, 28],\n",
       "       [ 3,  7, 13, 76]])"
      ]
     },
     "execution_count": 19,
     "metadata": {},
     "output_type": "execute_result"
    }
   ],
   "source": [
    "a"
   ]
  },
  {
   "cell_type": "markdown",
   "metadata": {},
   "source": [
    "# Splitting the matrix into A and b "
   ]
  },
  {
   "cell_type": "code",
   "execution_count": 20,
   "metadata": {},
   "outputs": [
    {
     "name": "stdout",
     "output_type": "stream",
     "text": [
      "A\n",
      "[[12  3 -5]\n",
      " [ 1  5  3]\n",
      " [ 3  7 13]]\n",
      "b\n",
      "[[ 1]\n",
      " [28]\n",
      " [76]]\n"
     ]
    }
   ],
   "source": [
    "x = np.zeros((3,1))\n",
    "dim=np.shape(a)\n",
    "[A,b]=np.split(a,[dim[0]],axis=1)\n",
    "print(\"A\")\n",
    "print(A)\n",
    "print(\"b\")\n",
    "print(b)"
   ]
  },
  {
   "cell_type": "markdown",
   "metadata": {},
   "source": [
    "# Main function "
   ]
  },
  {
   "cell_type": "code",
   "execution_count": 21,
   "metadata": {},
   "outputs": [
    {
     "name": "stdout",
     "output_type": "stream",
     "text": [
      "[[0.08333333]\n",
      " [5.6       ]\n",
      " [5.84615385]] 1.0\n",
      "[[1.11923077]\n",
      " [2.07564103]\n",
      " [2.81153846]] 1.2984574894290812\n",
      "[[0.73589744]\n",
      " [3.68923077]\n",
      " [4.47021696]] 0.4014716431039657\n",
      "[[1.02361604]\n",
      " [2.77069034]\n",
      " [3.68982249]] 0.2621754810261305\n",
      "[[0.92808679]\n",
      " [3.1813833 ]\n",
      " [4.11802458]] 0.11369106750984626\n",
      "[[1.00383108]\n",
      " [2.9435679 ]\n",
      " [3.91892743]] 0.06381529819340635\n",
      "[[0.98032779]\n",
      " [3.04787733]\n",
      " [4.02950242]] 0.029887125946335635\n",
      "[[1.00032334]\n",
      " [2.98623299]\n",
      " [3.97875964]] 0.016220569456660883\n",
      "[[0.9945916 ]\n",
      " [3.01267955]\n",
      " [4.00733839]] 0.007700281911032718\n",
      "[[0.99988778]\n",
      " [2.99667865]\n",
      " [3.99442064]] 0.004169818679518677\n",
      "[[0.99850561]\n",
      " [3.00337006]\n",
      " [4.00181432]] 0.001973167681839518\n",
      "[[0.99991345]\n",
      " [2.99921029]\n",
      " [3.99853021]] 0.0010757889646044062\n",
      "[[0.99958502]\n",
      " [3.00089918]\n",
      " [4.0004452 ]] 0.0005047980863359007\n",
      "[[0.99996071]\n",
      " [2.99981588]\n",
      " [3.99961159]] 0.00027803823528751493\n",
      "[[0.99988419]\n",
      " [3.0002409 ]\n",
      " [4.00010821]] 0.00012906507780803612\n",
      "[[0.99998486]\n",
      " [2.99995823]\n",
      " [3.99989701]] 7.196428619014758e-05\n",
      "[[0.99996753]\n",
      " [3.00006482]\n",
      " [4.00002598]] 3.298957345023325e-05\n",
      "[[0.99999462]\n",
      " [2.9999909 ]\n",
      " [3.99997259]] 1.8655815831276755e-05\n",
      "[[0.99999085]\n",
      " [3.00001752]\n",
      " [4.00000614]] 8.43144816550957e-06\n",
      "[[0.99999818]\n",
      " [2.99999815]\n",
      " [3.99999268]] 4.845159560688687e-06\n",
      "[[0.99999741]\n",
      " [3.00000476]\n",
      " [4.00000142]] 2.155147098166304e-06\n",
      "[[0.9999994 ]\n",
      " [2.99999967]\n",
      " [3.99999803]] 1.261083235174525e-06\n",
      "[[0.99999926]\n",
      " [3.0000013 ]\n",
      " [4.00000032]] 5.511024270372432e-07\n",
      "[[0.99999981]\n",
      " [2.99999996]\n",
      " [3.99999947]] 3.2907422899242176e-07\n",
      "[[0.99999979]\n",
      " [3.00000036]\n",
      " [4.00000007]] 1.4104588775839721e-07\n",
      "[[0.99999994]\n",
      " [3.        ]\n",
      " [3.99999986]] 8.613063928530831e-08\n",
      "[[0.99999994]\n",
      " [3.0000001 ]\n",
      " [4.00000001]] 3.6152320250129684e-08\n",
      "[[0.99999998]\n",
      " [3.        ]\n",
      " [3.99999996]] 2.2623520494807373e-08\n",
      "[[0.99999998]\n",
      " [3.00000003]\n",
      " [4.        ]] 9.288428271050963e-09\n",
      "[[0.99999999]\n",
      " [3.        ]\n",
      " [3.99999999]] 5.966911096022388e-09\n",
      "[[1.        ]\n",
      " [3.00000001]\n",
      " [4.        ]] 2.3949350938364697e-09\n",
      "[[1.]\n",
      " [3.]\n",
      " [4.]] 1.5812162300297005e-09\n",
      "[[1.]\n",
      " [3.]\n",
      " [4.]] 6.206635364017207e-10\n",
      "[[1.]\n",
      " [3.]\n",
      " [4.]] 4.212682381865366e-10\n",
      "[[1.]\n",
      " [3.]\n",
      " [4.]] 1.6197382039346885e-10\n",
      "[[1.]\n",
      " [3.]\n",
      " [4.]] 1.1290679192723341e-10\n",
      "[[1.]\n",
      " [3.]\n",
      " [4.]] 4.2656596200117845e-11\n",
      "[[1.]\n",
      " [3.]\n",
      " [4.]] 3.0459126854820165e-11\n",
      "[[1.]\n",
      " [3.]\n",
      " [4.]] 1.1361468322049096e-11\n",
      "[[1.]\n",
      " [3.]\n",
      " [4.]] 8.27475853697054e-12\n",
      "[[1.]\n",
      " [3.]\n",
      " [4.]] 3.0664373446092947e-12\n",
      "[[1.]\n",
      " [3.]\n",
      " [4.]] 2.26454503437506e-12\n",
      "[[1.]\n",
      " [3.]\n",
      " [4.]] 8.397594950858923e-13\n",
      "[[1.]\n",
      " [3.]\n",
      " [4.]] 6.243490107151141e-13\n",
      "[[1.]\n",
      " [3.]\n",
      " [4.]] 2.333884793096961e-13\n",
      "[[1.]\n",
      " [3.]\n",
      " [4.]] 1.7341965900122817e-13\n",
      "[[1.]\n",
      " [3.]\n",
      " [4.]] 6.583165267831341e-14\n",
      "[[1.]\n",
      " [3.]\n",
      " [4.]] 4.858163353684611e-14\n",
      "[[1.]\n",
      " [3.]\n",
      " [4.]] 1.886315087506067e-14\n",
      "[[1.]\n",
      " [3.]\n",
      " [4.]] 1.3696335503387583e-14\n",
      "[[1.]\n",
      " [3.]\n",
      " [4.]] 5.541884056576539e-15\n",
      "[[1.]\n",
      " [3.]\n",
      " [4.]] 4.1197525822350814e-15\n",
      "[[1.]\n",
      " [3.]\n",
      " [4.]] 1.679790098901486e-15\n",
      "[[1.]\n",
      " [3.]\n",
      " [4.]] 1.2324514199760718e-15\n",
      "[[1.]\n",
      " [3.]\n",
      " [4.]] 5.266250202865051e-16\n",
      "[[1.]\n",
      " [3.]\n",
      " [4.]] 3.1401849173675503e-16\n",
      "[[1.]\n",
      " [3.]\n",
      " [4.]] 1.0886632436545529e-16\n",
      "[[1.]\n",
      " [3.]\n",
      " [4.]] 1.995552688145257e-16\n",
      "[[1.]\n",
      " [3.]\n",
      " [4.]] 1.2316818592266835e-16\n",
      "[[1.]\n",
      " [3.]\n",
      " [4.]] 9.73730006966799e-17\n",
      "The solution is [[1.]\n",
      " [3.]\n",
      " [4.]]; within a tolerance of 9.7373e-17, using 60 iterations.\n",
      "Solution error = norm(Ax-b) = 0\n",
      "Condition number of A = 31.58133\n",
      "Solution from built-in functions = [[1.]\n",
      " [3.]\n",
      " [4.]]\n"
     ]
    }
   ],
   "source": [
    "tol = 1E-16\n",
    "maxiter = 200\n",
    "x, rel_diff, k = jacobi(A, b, x, tol, maxiter)\n",
    "if k == maxiter:\n",
    "    print(('WARNING: the Jacobi iterations did not '\n",
    "           'converge within the required tolerance.'))\n",
    "print(('The solution is %s; within a tolerance of %g, '\n",
    "        'using %d iterations.' % (x, rel_diff, k)))\n",
    "print('Solution error = norm(Ax-b) = %g' % \\\n",
    "            norm(np.dot(A,x)-b)) \n",
    "print('Condition number of A = %0.5f' % cond(a))\n",
    "print('Solution from built-in functions = %s' % solve(A, b))\n"
   ]
  },
  {
   "cell_type": "markdown",
   "metadata": {},
   "source": [
    "# Graph representing iterations vs x[0] solution"
   ]
  },
  {
   "cell_type": "code",
   "execution_count": 22,
   "metadata": {},
   "outputs": [
    {
     "data": {
      "image/png": "[encoded data removed]",
      "text/plain": [
       "<Figure size 432x288 with 1 Axes>"
      ]
     },
     "metadata": {
      "needs_background": "light"
     },
     "output_type": "display_data"
    }
   ],
   "source": [
    "df = pd.DataFrame(dataa,columns=['Iteration #','Value of x1'])\n",
    "df.plot(x='Iteration #',y='Value of x1',kind='line')\n",
    "plt.show()\n"
   ]
  },
  {
   "cell_type": "code",
   "execution_count": null,
   "metadata": {},
   "outputs": [],
   "source": []
  }
 ],
 "metadata": {
  "kernelspec": {
   "display_name": "Python 3",
   "language": "python",
   "name": "python3"
  },
  "language_info": {
   "codemirror_mode": {
    "name": "ipython",
    "version": 3
   },
   "file_extension": ".py",
   "mimetype": "text/x-python",
   "name": "python",
   "nbconvert_exporter": "python",
   "pygments_lexer": "ipython3",
   "version": "3.8.5"
  }
 },
 "nbformat": 4,
 "nbformat_minor": 4
}
