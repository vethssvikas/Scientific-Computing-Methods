{
 "cells": [
  {
   "cell_type": "code",
   "execution_count": 3,
   "metadata": {},
   "outputs": [
    {
     "name": "stdout",
     "output_type": "stream",
     "text": [
      "[[ 3. -1.  4.  6. -4.]\n",
      " [-2.  0.  5.  3.  2.]\n",
      " [ 7.  2. -2.  7. -5.]]\n",
      "[[ 3. -1.  4.]\n",
      " [-2.  0.  5.]\n",
      " [ 7.  2. -2.]] \n",
      " [[ 6. -4.]\n",
      " [ 3.  2.]\n",
      " [ 7. -5.]]\n",
      "Upper Triangular Matrix is: \n",
      " [[ 3.       -1.        4.      ]\n",
      " [ 0.       -0.666667  7.666667]\n",
      " [ 0.        0.       38.5     ]] \n",
      "Lower Triangular Matrix is: \n",
      " [[ 1.        0.        0.      ]\n",
      " [-0.666667  1.        0.      ]\n",
      " [ 2.333333 -6.5       1.      ]]\n",
      "\n",
      "ux vectors are: \n",
      " [[ 6.        7.       38.5     ]\n",
      " [-4.       -0.666667  0.      ]] \n",
      "\n",
      "x solution vectors are: \n",
      " [[ 1.  1.  1.]\n",
      " [-1.  1.  0.]]\n"
     ]
    }
   ],
   "source": [
    "import numpy as np\n",
    "import sys\n",
    "from numpy import array\n",
    "A = array([[3.0,-1.0,4.0,6.0,-4.0],[-2.0,0.0,5.0,3.0,2.0],[7.0,2.0,-2.0,7.0,-5.0]])\n",
    "print(A)\n",
    "dim = np.shape(A)\n",
    "\n",
    "\n",
    "#splitting the matrix.\n",
    "[a,b]=np.split(A,[dim[0]],axis=1)\n",
    "print(a,'\\n',b)\n",
    "upmat=a\n",
    "lowmat = np.identity(dim[0])\n",
    "for i in range(dim[0]):\n",
    "    # i selects pivot element.\n",
    "    # to check if pivot element is zero\n",
    "    # remove this part from comments to add pivoting\n",
    "    if (upmat[i][i] == 0):\n",
    "        #to swap rows in case pivot element is zero.\n",
    "        for k in range(i+1,dim[0]):\n",
    "            if (upmat[k][i]!=0):               \n",
    "                upmat[[i,k]]=upmat[[k,i]]\n",
    "                lowmat[[i,k]]=lowmat[[k,i]]\n",
    "                b[[i,k]]=b[[k,i]]\n",
    "                break\n",
    "    # after making sure that either pivot element is zero or there are no non-zero elements in that column\n",
    "    # is also the code for Gauss elimination without pivoting\n",
    "    if(upmat[i][i]!=0):\n",
    "        for j in range(i+1, dim[0]):\n",
    "            lowmat[j][i] = (upmat[j][i]/upmat[i][i])\n",
    "            upmat[j] = upmat[j] - ((upmat[j][i]/upmat[i][i])*upmat[i])\n",
    "    # in case there's no unique solution.\n",
    "    if(upmat[i][i]==0):\n",
    "        print(\"no unique solution\")\n",
    "        quit()\n",
    "print(\"Upper Triangular Matrix is: \\n\",np.round_(upmat,6),\"\\nLower Triangular Matrix is: \\n\",np.round_(lowmat,6))\n",
    "b=np.transpose(b)\n",
    "# transpose makes it easier to read \n",
    "dim1 = np.shape(b)\n",
    "ux=b\n",
    "#forward substitution for all equations\n",
    "for k in range(dim1[0]):\n",
    "    for i in range(dim[0]):\n",
    "        for j in range(i):\n",
    "            ux[k][i] = ux[k][i]-(ux[k][j]*lowmat[i][j])\n",
    "print(\"\\nux vectors are: \\n\",np.round_(ux,6),'\\n')\n",
    "#back substitution for all equations\n",
    "x=ux\n",
    "for k in range(dim1[0]):\n",
    "    for i in range(dim[0]-1,-1,-1):\n",
    "        for j in range(i+1,dim[0]):\n",
    "            x[k][i] = x[k][i]-(x[k][j]*upmat[i][j])\n",
    "        x[k][i]=x[k][i]/upmat[i][i]\n",
    "print(\"x solution vectors are: \\n\" ,np.round_(x,6))\n",
    "\n",
    "\n",
    "\n"
   ]
  },
  {
   "cell_type": "code",
   "execution_count": null,
   "metadata": {},
   "outputs": [],
   "source": []
  }
 ],
 "metadata": {
  "kernelspec": {
   "display_name": "Python 3",
   "language": "python",
   "name": "python3"
  },
  "language_info": {
   "codemirror_mode": {
    "name": "ipython",
    "version": 3
   },
   "file_extension": ".py",
   "mimetype": "text/x-python",
   "name": "python",
   "nbconvert_exporter": "python",
   "pygments_lexer": "ipython3",
   "version": "3.8.5"
  }
 },
 "nbformat": 4,
 "nbformat_minor": 4
}
