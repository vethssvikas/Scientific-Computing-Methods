{
 "cells": [
  {
   "cell_type": "markdown",
   "metadata": {},
   "source": [
    "# Inserting relevant libraries"
   ]
  },
  {
   "cell_type": "code",
   "execution_count": 55,
   "metadata": {},
   "outputs": [],
   "source": [
    "import numpy as np\n",
    "import pprint as pp\n",
    "import pandas as pd\n",
    "import matplotlib.pyplot as plt\n",
    "from numpy.linalg import *"
   ]
  },
  {
   "cell_type": "markdown",
   "metadata": {},
   "source": [
    "# Taking inputs and printing the size"
   ]
  },
  {
   "cell_type": "code",
   "execution_count": 56,
   "metadata": {},
   "outputs": [
    {
     "name": "stdout",
     "output_type": "stream",
     "text": [
      "array([[ 3,  7, 13],\n",
      "       [ 1,  5,  3],\n",
      "       [12,  3, -5]])\n",
      "array([76, 28,  1])\n"
     ]
    }
   ],
   "source": [
    "a = np.array([[3, 7, 13],[1, 5, 3],[12, 3, -5]])\n",
    "b = np.array([76,28,1])\n",
    "pp.pprint(a)\n",
    "pp.pprint(b)"
   ]
  },
  {
   "cell_type": "code",
   "execution_count": 57,
   "metadata": {},
   "outputs": [
    {
     "data": {
      "text/plain": [
       "3"
      ]
     },
     "execution_count": 57,
     "metadata": {},
     "output_type": "execute_result"
    }
   ],
   "source": [
    "n=len(a)\n",
    "n"
   ]
  },
  {
   "cell_type": "markdown",
   "metadata": {},
   "source": [
    "# Gauss-siedal function"
   ]
  },
  {
   "cell_type": "code",
   "execution_count": 58,
   "metadata": {},
   "outputs": [],
   "source": [
    "# Defining our function as gs which takes 3 arguments \n",
    "# as A matrix, Solution and B matrix \n",
    "   \n",
    "def gs(A, x ,b): \n",
    "    #Finding length of a(3)        \n",
    "    n = len(A)                    \n",
    "    # for loop for 3 times as to calculate x, y , z \n",
    "    for j in range(0, n):         \n",
    "        # temp variable d to store b[j] \n",
    "        d = b[j]                   \n",
    "          \n",
    "        # to calculate respective xi, yi, zi \n",
    "        for i in range(0, n):      \n",
    "            if(j != i): \n",
    "                d-=A[j,i] * x[i] \n",
    "        # updating the value of our solution         \n",
    "        x[j] = d / A[j,j] \n",
    "    # returning our updated solution            \n",
    "    return x     \n",
    "   "
   ]
  },
  {
   "cell_type": "markdown",
   "metadata": {},
   "source": [
    "# Checking if it is diagonally dominant"
   ]
  },
  {
   "cell_type": "code",
   "execution_count": 59,
   "metadata": {},
   "outputs": [],
   "source": [
    "# whether given matrix is  \n",
    "# Diagonally Dominant Matrix. \n",
    "  \n",
    "# check the given given  \n",
    "# matrix is Diagonally  \n",
    "# Dominant Matrix or not. \n",
    "def isitDDM(m, n) : \n",
    "  \n",
    "    # for each row \n",
    "    for i in range(0, n) :          \n",
    "      \n",
    "        # for each column, finding \n",
    "        # sum of each row. \n",
    "        sum = 0\n",
    "        for j in range(0, n) : \n",
    "            sum += abs(m[i,j])      \n",
    "  \n",
    "        # removing the  \n",
    "        # diagonal element. \n",
    "        sum -= abs(m[i,i]) \n",
    "  \n",
    "        # checking if diagonal  \n",
    "        # element is less than  \n",
    "        # sum of non-diagonal \n",
    "        # element. \n",
    "        if (abs(m[i,i]) < sum) : \n",
    "            return False\n",
    "  \n",
    "    return True"
   ]
  },
  {
   "cell_type": "code",
   "execution_count": 60,
   "metadata": {},
   "outputs": [
    {
     "data": {
      "text/plain": [
       "False"
      ]
     },
     "execution_count": 60,
     "metadata": {},
     "output_type": "execute_result"
    }
   ],
   "source": [
    "isitDDM(a,n)"
   ]
  },
  {
   "cell_type": "markdown",
   "metadata": {},
   "source": [
    "# Converting to diagonally dominant"
   ]
  },
  {
   "cell_type": "code",
   "execution_count": 61,
   "metadata": {},
   "outputs": [
    {
     "name": "stdout",
     "output_type": "stream",
     "text": [
      "Matrix a is diagonally dominant\n"
     ]
    }
   ],
   "source": [
    "import random\n",
    "isdom = isitDDM(a,n)\n",
    "while 1:\n",
    "    if isitDDM(a,n):\n",
    "        print('Matrix a is diagonally dominant')\n",
    "        break\n",
    "    else:\n",
    "        a = np.random.permutation(a)"
   ]
  },
  {
   "cell_type": "code",
   "execution_count": 62,
   "metadata": {},
   "outputs": [
    {
     "data": {
      "text/plain": [
       "array([[12,  3, -5],\n",
       "       [ 1,  5,  3],\n",
       "       [ 3,  7, 13]])"
      ]
     },
     "execution_count": 62,
     "metadata": {},
     "output_type": "execute_result"
    }
   ],
   "source": [
    "a"
   ]
  },
  {
   "cell_type": "markdown",
   "metadata": {},
   "source": [
    "# Checking where it is converging"
   ]
  },
  {
   "cell_type": "code",
   "execution_count": 64,
   "metadata": {},
   "outputs": [
    {
     "name": "stdout",
     "output_type": "stream",
     "text": [
      "Sequence converges to [1.0 ,3.0 ,4.0 ]. Took 24 iterations.\n"
     ]
    }
   ],
   "source": [
    "def gaussSeidel(A, b, x, N, tol):\n",
    "    maxIterations = 1000000\n",
    "    xprev = [0.0 for i in range(N)]\n",
    "    for i in range(maxIterations):\n",
    "        for j in range(N):\n",
    "            xprev[j] = x[j]\n",
    "        for j in range(N):\n",
    "            summ = 0.0\n",
    "            for k in range(N):\n",
    "                if (k != j):\n",
    "                    summ = summ + A[j][k] * x[k]\n",
    "            x[j] = (b[j] - summ) / A[j][j]\n",
    "        diffnorm = 0.0\n",
    "        oldnorm = 0.0\n",
    "        for j in range(N):\n",
    "            diffnorm = diffnorm + abs(x[j] - xprev[j])\n",
    "            oldnorm = oldnorm + abs(xprev[j])  \n",
    "        if oldnorm == 0.0:\n",
    "            oldnorm = 1.0\n",
    "        norm = diffnorm / oldnorm\n",
    "        if (norm < tol) and i != 0:\n",
    "            print(\"Sequence converges to [\", end=\"\")\n",
    "            for j in range(N - 1):\n",
    "                print(x[j], \",\", end=\"\")\n",
    "            print(x[N - 1], \"]. Took\", i + 1, \"iterations.\")\n",
    "            return\n",
    "    print(\"Doesn't converge.\")\n",
    "\n",
    "c = [[12.0, 3.0,-5.0], [1.0, 5.0,3.0],[3.0,7.0,13.0]]\n",
    "d = [1.0, 28.0,76.0]\n",
    "z = [0.0, 0.0,0.0]\n",
    "\n",
    "\n",
    "gaussSeidel(c, d, z, 3, 1E-16)\n"
   ]
  },
  {
   "cell_type": "markdown",
   "metadata": {},
   "source": [
    "# Main function "
   ]
  },
  {
   "cell_type": "code",
   "execution_count": 65,
   "metadata": {},
   "outputs": [
    {
     "name": "stdout",
     "output_type": "stream",
     "text": [
      "Iteration 0\n",
      "[[0.08333333]\n",
      " [5.58333333]\n",
      " [2.82051282]]\n",
      "Iteration 1\n",
      "[[-0.13728632]\n",
      " [ 3.93514957]\n",
      " [ 3.75890861]]\n",
      "Iteration 2\n",
      "[[0.66575786]\n",
      " [3.21150326]\n",
      " [3.96324643]]\n",
      "Iteration 3\n",
      "[[0.9318102 ]\n",
      " [3.0356901 ]\n",
      " [3.99651836]]\n",
      "Iteration 4\n",
      "[[0.98962679]\n",
      " [3.00416363]\n",
      " [4.00015187]]\n",
      "Iteration 5\n",
      "[[0.99902237]\n",
      " [3.00010441]\n",
      " [4.00016939]]\n",
      "Iteration 6\n",
      "[[1.00004448]\n",
      " [2.99988947]\n",
      " [4.00004925]]\n",
      "Iteration 7\n",
      "[[1.00004815]\n",
      " [2.99996082]\n",
      " [4.00000999]]\n",
      "Iteration 8\n",
      "[[1.00001396]\n",
      " [2.99999122]\n",
      " [4.00000151]]\n",
      "Iteration 9\n",
      "[[1.00000282]\n",
      " [2.99999853]\n",
      " [4.00000014]]\n",
      "Iteration 10\n",
      "[[1.00000043]\n",
      " [2.99999983]\n",
      " [3.99999999]]\n",
      "Iteration 11\n",
      "[[1.00000004]\n",
      " [3.        ]\n",
      " [3.99999999]]\n",
      "Iteration 12\n",
      "[[1.]\n",
      " [3.]\n",
      " [4.]]\n",
      "Iteration 13\n",
      "[[1.]\n",
      " [3.]\n",
      " [4.]]\n",
      "Iteration 14\n",
      "[[1.]\n",
      " [3.]\n",
      " [4.]]\n",
      "Iteration 15\n",
      "[[1.]\n",
      " [3.]\n",
      " [4.]]\n",
      "Iteration 16\n",
      "[[1.]\n",
      " [3.]\n",
      " [4.]]\n",
      "Iteration 17\n",
      "[[1.]\n",
      " [3.]\n",
      " [4.]]\n",
      "Iteration 18\n",
      "[[1.]\n",
      " [3.]\n",
      " [4.]]\n",
      "Iteration 19\n",
      "[[1.]\n",
      " [3.]\n",
      " [4.]]\n",
      "Iteration 20\n",
      "[[1.]\n",
      " [3.]\n",
      " [4.]]\n",
      "Iteration 21\n",
      "[[1.]\n",
      " [3.]\n",
      " [4.]]\n",
      "Iteration 22\n",
      "[[1.]\n",
      " [3.]\n",
      " [4.]]\n",
      "Iteration 23\n",
      "[[1.]\n",
      " [3.]\n",
      " [4.]]\n"
     ]
    }
   ],
   "source": [
    "data = []\n",
    "x = np.zeros((3,1)) \n",
    "b = np.array([1,28,76])\n",
    "#loop run for m times depending on m the error value \n",
    "for i in range(0, 24):             \n",
    "    x = gs(a, x, b)\n",
    "    #print each time the updated solution \n",
    "    print(\"Iteration\",i)\n",
    "    data.append((i,x[0][0]))\n",
    "    print(x)\n",
    "    "
   ]
  },
  {
   "cell_type": "markdown",
   "metadata": {},
   "source": [
    "# Graph of iterations vs x[0]"
   ]
  },
  {
   "cell_type": "code",
   "execution_count": 66,
   "metadata": {},
   "outputs": [
    {
     "data": {
      "image/png": "[encoded data removed]",
      "text/plain": [
       "<Figure size 432x288 with 1 Axes>"
      ]
     },
     "metadata": {
      "needs_background": "light"
     },
     "output_type": "display_data"
    }
   ],
   "source": [
    "df = pd.DataFrame(data,columns=['Iteration #','Value of x1'])\n",
    "df.plot(x='Iteration #',y='Value of x1',kind='line')\n",
    "plt.show()"
   ]
  },
  {
   "cell_type": "code",
   "execution_count": null,
   "metadata": {},
   "outputs": [],
   "source": []
  }
 ],
 "metadata": {
  "kernelspec": {
   "display_name": "Python 3",
   "language": "python",
   "name": "python3"
  },
  "language_info": {
   "codemirror_mode": {
    "name": "ipython",
    "version": 3
   },
   "file_extension": ".py",
   "mimetype": "text/x-python",
   "name": "python",
   "nbconvert_exporter": "python",
   "pygments_lexer": "ipython3",
   "version": "3.8.5"
  }
 },
 "nbformat": 4,
 "nbformat_minor": 4
}
